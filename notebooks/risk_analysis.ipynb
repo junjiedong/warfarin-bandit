{
 "cells": [
  {
   "cell_type": "code",
   "execution_count": 1,
   "metadata": {},
   "outputs": [],
   "source": [
    "%load_ext autoreload\n",
    "%autoreload 2\n",
    "%matplotlib inline\n",
    "\n",
    "import numpy as np\n",
    "import pandas as pd\n",
    "import matplotlib.pyplot as plt\n",
    "import texttable\n",
    "import sys\n",
    "sys.path.append(\"../src\")\n",
    "from data_proc import *\n",
    "from policy import *\n",
    "from simulate import *\n",
    "from util import Progbar\n",
    "\n",
    "pd.options.mode.chained_assignment = None"
   ]
  },
  {
   "cell_type": "code",
   "execution_count": 2,
   "metadata": {},
   "outputs": [],
   "source": [
    "plt.rcParams['figure.figsize'] = [10, 7.5]"
   ]
  },
  {
   "cell_type": "code",
   "execution_count": 3,
   "metadata": {},
   "outputs": [],
   "source": [
    "DATA_PATH = \"../data/warfarin.csv\"  # path to raw Warfarin data file"
   ]
  },
  {
   "cell_type": "code",
   "execution_count": 15,
   "metadata": {
    "scrolled": false
   },
   "outputs": [],
   "source": [
    "def evaluate_risk(simulator, policies, num_runs=100):\n",
    "    \"\"\"\n",
    "    Simulates a list of policies, each for 'num_runs' times (using the same sets of random permutations);\n",
    "    and compares the policies' regret & \"risk\":\n",
    "    \n",
    "    We judge a policy's risk based on how often it chooses low (high) when the optimal decision is high (low)\n",
    "    \n",
    "    simulator:\n",
    "        WarfarinSimulator instance\n",
    "    policies:\n",
    "        List of (Policy, string) tuples, where the string is a description of the policy\n",
    "        The Policy instances should implement reset(), choose_arm(), and update_policy()\n",
    "    \"\"\"\n",
    "    train_size = simulator.train_size  # number of online learning steps\n",
    "    \n",
    "    # record simulation results\n",
    "    header = ['Policy', 'Mean', 'Std', 'Max', 'Min']\n",
    "    table_regret = texttable.Texttable()\n",
    "    table_regret.header(header)\n",
    "    table_risk = texttable.Texttable()\n",
    "    table_risk.header(header)\n",
    "    \n",
    "    regret_list = []\n",
    "    risk_list = []\n",
    "    \n",
    "    base_seed = np.random.randint(1000)  # randomizing dataset permutations\n",
    "    for policy, policy_name in policies:\n",
    "        print(\"Start simulating {}\".format(policy_name))\n",
    "    \n",
    "        regrets = []  # total regrets\n",
    "        risk_percent = []  # percentage of severe mistakes (low->high or high->low)\n",
    "        progbar = Progbar(num_runs)  # progress bar\n",
    "        for i in range(num_runs):\n",
    "            policy.reset()  # Reset the policy to its initial states            \n",
    "            simulator.simulate(policy, eval_every=10000, random_seed=(base_seed+i))\n",
    "            regrets.append(simulator.get_total_regret())\n",
    "            confusion_matrix = simulator.get_confusion_matrix()\n",
    "            risk_percent.append((confusion_matrix[0,2] + confusion_matrix[2,0]) / train_size * 100)\n",
    "            progbar.update(i+1)\n",
    "\n",
    "        table_regret.add_row((policy_name, np.mean(regrets), np.std(regrets),\n",
    "                              np.max(regrets), np.min(regrets)))\n",
    "        table_risk.add_row((policy_name, np.mean(risk_percent), np.std(risk_percent),\n",
    "                            np.max(risk_percent), np.min(risk_percent)))\n",
    "        \n",
    "        regret_list.append(np.mean(regrets))\n",
    "        risk_list.append(np.mean(risk_percent))\n",
    "    \n",
    "    print(\"Regret Statistics:\")\n",
    "    print(table_regret.draw())\n",
    "    print(\"Risk Statistics (Percentage of high->low & low->high decisions):\")\n",
    "    print(table_risk.draw())\n",
    "    \n",
    "    return regret_list, risk_list\n",
    "\n",
    "# simulator = WarfarinSimulator(DATA_PATH, discretize_label_3, test_size=500, add_bias=True)\n",
    "# num_features = simulator.num_features\n",
    "# num_arms = simulator.num_arms\n",
    "\n",
    "# evaluate_risk(simulator, [\n",
    "#     (WarfarinLinearOraclePolicy(DATA_PATH, discretize_label_3), \"LinearOracle\"),\n",
    "#     (LinUCBPolicy(num_features, num_arms, alpha=1.0), \"LinUCB\"),\n",
    "#     (LinUCBSafePolicy(num_features, num_arms, alpha=1.0), \"LinUCBSafe\"),\n",
    "#     (EpsilonGreedyPolicy(num_features, num_arms, eps_schedule=lambda x: 0), \"Greedy\"),\n",
    "#     (EpsilonGreedyPolicy(num_features, num_arms, eps_schedule=lambda t: 0.2-t/20000), \"EpsDecay\"),\n",
    "#     (EpsilonGreedyPolicy(num_features, num_arms, eps_schedule=lambda x: 0.2), \"EpsGreedy(0.2)\"),\n",
    "#     (WarfarinFixedDosePolicy(1), \"Fixed-dose\"),\n",
    "# ], num_runs=500)"
   ]
  },
  {
   "cell_type": "code",
   "execution_count": null,
   "metadata": {},
   "outputs": [],
   "source": []
  },
  {
   "cell_type": "code",
   "execution_count": 46,
   "metadata": {},
   "outputs": [
    {
     "name": "stdout",
     "output_type": "stream",
     "text": [
      "Instantiated a Warfarin Bandit simulator!\n",
      "Reward structure: binary\n",
      "Number of arms: 3\n",
      "Number of features: 24\n",
      "Size of training set for online learning: 5028\n",
      "Size of holdout validation set: 500\n",
      "Start simulating LinearOracle\n",
      "500/500 [==============================] - 19s    \n",
      "Start simulating LinUCB\n",
      "500/500 [==============================] - 142s   \n",
      "Regret Statistics:\n",
      "+--------------+----------+--------+------+------+\n",
      "|    Policy    |   Mean   |  Std   | Max  | Min  |\n",
      "+==============+==========+========+======+======+\n",
      "| LinearOracle | 1653.506 | 10.228 | 1686 | 1622 |\n",
      "+--------------+----------+--------+------+------+\n",
      "| LinUCB       | 1735.072 | 29.088 | 1878 | 1655 |\n",
      "+--------------+----------+--------+------+------+\n",
      "Risk Statistics (Percentage of high->low & low->high decisions):\n",
      "+--------------+-------+-------+-------+-------+\n",
      "|    Policy    | Mean  |  Std  |  Max  |  Min  |\n",
      "+==============+=======+=======+=======+=======+\n",
      "| LinearOracle | 0.181 | 0.017 | 0.199 | 0.119 |\n",
      "+--------------+-------+-------+-------+-------+\n",
      "| LinUCB       | 0.634 | 0.127 | 1.173 | 0.278 |\n",
      "+--------------+-------+-------+-------+-------+\n",
      "Start simulating LinearOracle\n",
      "500/500 [==============================] - 19s    \n",
      "Start simulating LinUCB\n",
      "500/500 [==============================] - 146s   \n",
      "Regret Statistics:\n",
      "+--------------+----------+--------+------+------+\n",
      "|    Policy    |   Mean   |  Std   | Max  | Min  |\n",
      "+==============+==========+========+======+======+\n",
      "| LinearOracle | 1653.564 | 9.920  | 1686 | 1625 |\n",
      "+--------------+----------+--------+------+------+\n",
      "| LinUCB       | 1729.348 | 28.265 | 1866 | 1655 |\n",
      "+--------------+----------+--------+------+------+\n",
      "Risk Statistics (Percentage of high->low & low->high decisions):\n",
      "+--------------+-------+-------+-------+-------+\n",
      "|    Policy    | Mean  |  Std  |  Max  |  Min  |\n",
      "+==============+=======+=======+=======+=======+\n",
      "| LinearOracle | 0.180 | 0.018 | 0.199 | 0.099 |\n",
      "+--------------+-------+-------+-------+-------+\n",
      "| LinUCB       | 0.722 | 0.124 | 1.333 | 0.358 |\n",
      "+--------------+-------+-------+-------+-------+\n",
      "Start simulating LinearOracle\n",
      "500/500 [==============================] - 19s    \n",
      "Start simulating LinUCB\n",
      "500/500 [==============================] - 147s   \n",
      "Regret Statistics:\n",
      "+--------------+----------+--------+------+------+\n",
      "|    Policy    |   Mean   |  Std   | Max  | Min  |\n",
      "+==============+==========+========+======+======+\n",
      "| LinearOracle | 1653.780 | 10.251 | 1686 | 1622 |\n",
      "+--------------+----------+--------+------+------+\n",
      "| LinUCB       | 1729.898 | 23.598 | 1807 | 1670 |\n",
      "+--------------+----------+--------+------+------+\n",
      "Risk Statistics (Percentage of high->low & low->high decisions):\n",
      "+--------------+-------+-------+-------+-------+\n",
      "|    Policy    | Mean  |  Std  |  Max  |  Min  |\n",
      "+==============+=======+=======+=======+=======+\n",
      "| LinearOracle | 0.181 | 0.017 | 0.199 | 0.119 |\n",
      "+--------------+-------+-------+-------+-------+\n",
      "| LinUCB       | 0.962 | 0.116 | 1.273 | 0.656 |\n",
      "+--------------+-------+-------+-------+-------+\n",
      "Start simulating LinearOracle\n",
      "500/500 [==============================] - 19s    \n",
      "Start simulating LinUCB\n",
      "500/500 [==============================] - 146s   \n",
      "Regret Statistics:\n",
      "+--------------+----------+--------+------+------+\n",
      "|    Policy    |   Mean   |  Std   | Max  | Min  |\n",
      "+==============+==========+========+======+======+\n",
      "| LinearOracle | 1653.432 | 9.908  | 1690 | 1625 |\n",
      "+--------------+----------+--------+------+------+\n",
      "| LinUCB       | 1838.338 | 22.505 | 1905 | 1774 |\n",
      "+--------------+----------+--------+------+------+\n",
      "Risk Statistics (Percentage of high->low & low->high decisions):\n",
      "+--------------+-------+-------+-------+-------+\n",
      "|    Policy    | Mean  |  Std  |  Max  |  Min  |\n",
      "+==============+=======+=======+=======+=======+\n",
      "| LinearOracle | 0.180 | 0.018 | 0.199 | 0.099 |\n",
      "+--------------+-------+-------+-------+-------+\n",
      "| LinUCB       | 1.760 | 0.147 | 2.247 | 1.253 |\n",
      "+--------------+-------+-------+-------+-------+\n",
      "Start simulating LinearOracle\n",
      "500/500 [==============================] - 19s    \n",
      "Start simulating LinUCB\n",
      "500/500 [==============================] - 146s   \n",
      "Regret Statistics:\n",
      "+--------------+----------+--------+------+------+\n",
      "|    Policy    |   Mean   |  Std   | Max  | Min  |\n",
      "+==============+==========+========+======+======+\n",
      "| LinearOracle | 1653.702 | 9.795  | 1690 | 1625 |\n",
      "+--------------+----------+--------+------+------+\n",
      "| LinUCB       | 2205.450 | 24.440 | 2288 | 2132 |\n",
      "+--------------+----------+--------+------+------+\n",
      "Risk Statistics (Percentage of high->low & low->high decisions):\n",
      "+--------------+-------+-------+-------+-------+\n",
      "|    Policy    | Mean  |  Std  |  Max  |  Min  |\n",
      "+==============+=======+=======+=======+=======+\n",
      "| LinearOracle | 0.180 | 0.017 | 0.199 | 0.099 |\n",
      "+--------------+-------+-------+-------+-------+\n",
      "| LinUCB       | 3.957 | 0.210 | 4.574 | 3.381 |\n",
      "+--------------+-------+-------+-------+-------+\n"
     ]
    }
   ],
   "source": [
    "simulator = WarfarinSimulator(DATA_PATH, discretize_label_3, test_size=500, add_bias=True)\n",
    "num_features = simulator.num_features\n",
    "num_arms = simulator.num_arms\n",
    "alpha = np.logspace(-1, 1, 5, endpoint=True)\n",
    "regret_matrix, risk_matrix = [], []\n",
    "\n",
    "for a in alpha:\n",
    "    regret_list, risk_list = evaluate_risk(simulator, [\n",
    "        (WarfarinLinearOraclePolicy(DATA_PATH, discretize_label_3), \"LinearOracle\"),\n",
    "        (LinUCBPolicy(num_features, num_arms, alpha=a), \"LinUCB\"),\n",
    "#         (LinUCBSafePolicy(num_features, num_arms, alpha=1.0), \"LinUCBSafe\"),\n",
    "#         (EpsilonGreedyPolicy(num_features, num_arms, eps_schedule=lambda x: 0), \"Greedy\"),\n",
    "#         (EpsilonGreedyPolicy(num_features, num_arms, eps_schedule=lambda t: 0.2-t/20000), \"EpsDecay\"),\n",
    "#         (EpsilonGreedyPolicy(num_features, num_arms, eps_schedule=lambda x: 0.2), \"EpsGreedy(0.2)\"),\n",
    "#         (WarfarinFixedDosePolicy(1), \"Fixed-dose\"),\n",
    "    ], num_runs=500)\n",
    "    regret_matrix.append(regret_list)\n",
    "    risk_matrix.append(risk_list)"
   ]
  },
  {
   "cell_type": "code",
   "execution_count": 47,
   "metadata": {},
   "outputs": [
    {
     "name": "stdout",
     "output_type": "stream",
     "text": [
      "[[1653.506, 1735.072], [1653.564, 1729.348], [1653.78, 1729.898], [1653.432, 1838.338], [1653.702, 2205.45]]\n",
      "[[0.18138424821002386, 0.6342879872712808], [0.18007159904534603, 0.7221161495624503], [0.18134447096260936, 0.9616149562450279], [0.17975338106603025, 1.7595465393794747], [0.18019093078758952, 3.9571201272871916]]\n"
     ]
    }
   ],
   "source": [
    "print (regret_matrix)\n",
    "print (risk_matrix)"
   ]
  },
  {
   "cell_type": "code",
   "execution_count": 64,
   "metadata": {},
   "outputs": [],
   "source": [
    "def plot_helper(regret_matrix, risk_matrix, alpha):\n",
    "    plt.figure()\n",
    "    print (regret_matrix.shape)\n",
    "#     print (alpha.shape)\n",
    "#     print ()\n",
    "    for i in range(len(regret_matrix[0])):\n",
    "        print(i)\n",
    "        plt.plot(alpha,regret_matrix[:,i])\n",
    "    \n",
    "    plt.legend([\"LinearOracle\",\"LinUCB\"])\n",
    "    plt.title(\"Regret vs Alpha\")    \n",
    "    plt.show()"
   ]
  },
  {
   "cell_type": "code",
   "execution_count": 65,
   "metadata": {},
   "outputs": [
    {
     "name": "stdout",
     "output_type": "stream",
     "text": [
      "(5, 2)\n",
      "0\n",
      "1\n"
     ]
    },
    {
     "data": {
      "image/png": "[encoded data removed]",
      "text/plain": [
       "<Figure size 720x540 with 1 Axes>"
      ]
     },
     "metadata": {},
     "output_type": "display_data"
    }
   ],
   "source": [
    "# alpha -> 400~500\n",
    "# linUCB, oracle, greedy\n",
    "# thompson sampling\n",
    "# plot risk vs alpha, regret vs alpha\n",
    "# alpha [0.1,10]\n",
    "# algo linusbsafe\n",
    "# reward\n",
    "\n",
    "regret_matrix = np.array(regret_matrix)\n",
    "# print (regret_matrix)\n",
    "# print (regret_matrix.T)\n",
    "# print (regret_matrix[0])\n",
    "\n",
    "plot_helper(regret_matrix, risk_matrix, alpha)\n"
   ]
  },
  {
   "cell_type": "code",
   "execution_count": null,
   "metadata": {},
   "outputs": [],
   "source": []
  },
  {
   "cell_type": "code",
   "execution_count": null,
   "metadata": {},
   "outputs": [],
   "source": []
  }
 ],
 "metadata": {
  "kernelspec": {
   "display_name": "Python 3",
   "language": "python",
   "name": "python3"
  },
  "language_info": {
   "codemirror_mode": {
    "name": "ipython",
    "version": 3
   },
   "file_extension": ".py",
   "mimetype": "text/x-python",
   "name": "python",
   "nbconvert_exporter": "python",
   "pygments_lexer": "ipython3",
   "version": "3.6.8"
  }
 },
 "nbformat": 4,
 "nbformat_minor": 2
}
