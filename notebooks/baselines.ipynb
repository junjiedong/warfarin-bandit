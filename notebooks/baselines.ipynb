{
 "cells": [
  {
   "cell_type": "code",
   "execution_count": 1,
   "metadata": {},
   "outputs": [],
   "source": [
    "%load_ext autoreload\n",
    "%autoreload 2\n",
    "\n",
    "import numpy as np\n",
    "import pandas as pd\n",
    "import sys\n",
    "sys.path.append(\"../src\")\n",
    "from data_proc import *\n",
    "from baselines import *\n",
    "from sklearn.linear_model import LinearRegression, LogisticRegression\n",
    "\n",
    "pd.options.mode.chained_assignment = None"
   ]
  },
  {
   "cell_type": "code",
   "execution_count": 2,
   "metadata": {},
   "outputs": [],
   "source": [
    "DATA_PATH = \"../data/warfarin.csv\"  # path to raw Warfarin data file"
   ]
  },
  {
   "cell_type": "markdown",
   "metadata": {},
   "source": [
    "# A quick look at the data"
   ]
  },
  {
   "cell_type": "code",
   "execution_count": 3,
   "metadata": {},
   "outputs": [
    {
     "name": "stdout",
     "output_type": "stream",
     "text": [
      "Number of records: 5528\n"
     ]
    },
    {
     "data": {
      "text/html": [
       "<div>\n",
       "<style scoped>\n",
       "    .dataframe tbody tr th:only-of-type {\n",
       "        vertical-align: middle;\n",
       "    }\n",
       "\n",
       "    .dataframe tbody tr th {\n",
       "        vertical-align: top;\n",
       "    }\n",
       "\n",
       "    .dataframe thead th {\n",
       "        text-align: right;\n",
       "    }\n",
       "</style>\n",
       "<table border=\"1\" class=\"dataframe\">\n",
       "  <thead>\n",
       "    <tr style=\"text-align: right;\">\n",
       "      <th></th>\n",
       "      <th>daily-dosage</th>\n",
       "      <th>dosage-level</th>\n",
       "      <th>Age</th>\n",
       "      <th>Height (cm)</th>\n",
       "      <th>Weight (kg)</th>\n",
       "      <th>Asian</th>\n",
       "      <th>African-American</th>\n",
       "      <th>Race-Unknown</th>\n",
       "      <th>Enzyme</th>\n",
       "      <th>Amiodarone</th>\n",
       "      <th>...</th>\n",
       "      <th>CYP2C9-22</th>\n",
       "      <th>CYP2C9-23</th>\n",
       "      <th>CYP2C9-33</th>\n",
       "      <th>CYP2C9-Unknown</th>\n",
       "      <th>warfarin-treatment-3</th>\n",
       "      <th>warfarin-treatment-4</th>\n",
       "      <th>Current Smoker-1</th>\n",
       "      <th>Current Smoker-0</th>\n",
       "      <th>Congestive Heart Failure and/or Cardiomyopathy-1</th>\n",
       "      <th>Congestive Heart Failure and/or Cardiomyopathy-0</th>\n",
       "    </tr>\n",
       "  </thead>\n",
       "  <tbody>\n",
       "    <tr>\n",
       "      <th>0</th>\n",
       "      <td>7.000000</td>\n",
       "      <td>2</td>\n",
       "      <td>6.0</td>\n",
       "      <td>193.04</td>\n",
       "      <td>115.7</td>\n",
       "      <td>0</td>\n",
       "      <td>0</td>\n",
       "      <td>0</td>\n",
       "      <td>0</td>\n",
       "      <td>0</td>\n",
       "      <td>...</td>\n",
       "      <td>0</td>\n",
       "      <td>0</td>\n",
       "      <td>0</td>\n",
       "      <td>0</td>\n",
       "      <td>0</td>\n",
       "      <td>0</td>\n",
       "      <td>0</td>\n",
       "      <td>1</td>\n",
       "      <td>0</td>\n",
       "      <td>0</td>\n",
       "    </tr>\n",
       "    <tr>\n",
       "      <th>1</th>\n",
       "      <td>6.000000</td>\n",
       "      <td>1</td>\n",
       "      <td>5.0</td>\n",
       "      <td>176.53</td>\n",
       "      <td>144.2</td>\n",
       "      <td>0</td>\n",
       "      <td>0</td>\n",
       "      <td>0</td>\n",
       "      <td>0</td>\n",
       "      <td>0</td>\n",
       "      <td>...</td>\n",
       "      <td>0</td>\n",
       "      <td>0</td>\n",
       "      <td>0</td>\n",
       "      <td>0</td>\n",
       "      <td>0</td>\n",
       "      <td>0</td>\n",
       "      <td>1</td>\n",
       "      <td>0</td>\n",
       "      <td>0</td>\n",
       "      <td>0</td>\n",
       "    </tr>\n",
       "    <tr>\n",
       "      <th>2</th>\n",
       "      <td>7.571429</td>\n",
       "      <td>2</td>\n",
       "      <td>4.0</td>\n",
       "      <td>162.56</td>\n",
       "      <td>77.1</td>\n",
       "      <td>0</td>\n",
       "      <td>0</td>\n",
       "      <td>0</td>\n",
       "      <td>0</td>\n",
       "      <td>0</td>\n",
       "      <td>...</td>\n",
       "      <td>0</td>\n",
       "      <td>0</td>\n",
       "      <td>0</td>\n",
       "      <td>0</td>\n",
       "      <td>0</td>\n",
       "      <td>0</td>\n",
       "      <td>0</td>\n",
       "      <td>1</td>\n",
       "      <td>0</td>\n",
       "      <td>0</td>\n",
       "    </tr>\n",
       "    <tr>\n",
       "      <th>3</th>\n",
       "      <td>4.000000</td>\n",
       "      <td>1</td>\n",
       "      <td>6.0</td>\n",
       "      <td>182.24</td>\n",
       "      <td>90.7</td>\n",
       "      <td>0</td>\n",
       "      <td>0</td>\n",
       "      <td>0</td>\n",
       "      <td>0</td>\n",
       "      <td>0</td>\n",
       "      <td>...</td>\n",
       "      <td>0</td>\n",
       "      <td>0</td>\n",
       "      <td>0</td>\n",
       "      <td>0</td>\n",
       "      <td>0</td>\n",
       "      <td>0</td>\n",
       "      <td>0</td>\n",
       "      <td>1</td>\n",
       "      <td>0</td>\n",
       "      <td>0</td>\n",
       "    </tr>\n",
       "    <tr>\n",
       "      <th>4</th>\n",
       "      <td>6.000000</td>\n",
       "      <td>1</td>\n",
       "      <td>5.0</td>\n",
       "      <td>167.64</td>\n",
       "      <td>72.6</td>\n",
       "      <td>0</td>\n",
       "      <td>0</td>\n",
       "      <td>0</td>\n",
       "      <td>0</td>\n",
       "      <td>0</td>\n",
       "      <td>...</td>\n",
       "      <td>0</td>\n",
       "      <td>0</td>\n",
       "      <td>0</td>\n",
       "      <td>0</td>\n",
       "      <td>0</td>\n",
       "      <td>0</td>\n",
       "      <td>0</td>\n",
       "      <td>1</td>\n",
       "      <td>0</td>\n",
       "      <td>0</td>\n",
       "    </tr>\n",
       "  </tbody>\n",
       "</table>\n",
       "<p>5 rows × 25 columns</p>\n",
       "</div>"
      ],
      "text/plain": [
       "   daily-dosage  dosage-level  Age  Height (cm)  Weight (kg)  Asian  \\\n",
       "0      7.000000             2  6.0       193.04        115.7      0   \n",
       "1      6.000000             1  5.0       176.53        144.2      0   \n",
       "2      7.571429             2  4.0       162.56         77.1      0   \n",
       "3      4.000000             1  6.0       182.24         90.7      0   \n",
       "4      6.000000             1  5.0       167.64         72.6      0   \n",
       "\n",
       "   African-American  Race-Unknown  Enzyme  Amiodarone  ...  CYP2C9-22  \\\n",
       "0                 0             0       0           0  ...          0   \n",
       "1                 0             0       0           0  ...          0   \n",
       "2                 0             0       0           0  ...          0   \n",
       "3                 0             0       0           0  ...          0   \n",
       "4                 0             0       0           0  ...          0   \n",
       "\n",
       "   CYP2C9-23  CYP2C9-33  CYP2C9-Unknown  warfarin-treatment-3  \\\n",
       "0          0          0               0                     0   \n",
       "1          0          0               0                     0   \n",
       "2          0          0               0                     0   \n",
       "3          0          0               0                     0   \n",
       "4          0          0               0                     0   \n",
       "\n",
       "   warfarin-treatment-4  Current Smoker-1  Current Smoker-0  \\\n",
       "0                     0                 0                 1   \n",
       "1                     0                 1                 0   \n",
       "2                     0                 0                 1   \n",
       "3                     0                 0                 1   \n",
       "4                     0                 0                 1   \n",
       "\n",
       "   Congestive Heart Failure and/or Cardiomyopathy-1  \\\n",
       "0                                                 0   \n",
       "1                                                 0   \n",
       "2                                                 0   \n",
       "3                                                 0   \n",
       "4                                                 0   \n",
       "\n",
       "   Congestive Heart Failure and/or Cardiomyopathy-0  \n",
       "0                                                 0  \n",
       "1                                                 0  \n",
       "2                                                 0  \n",
       "3                                                 0  \n",
       "4                                                 0  \n",
       "\n",
       "[5 rows x 25 columns]"
      ]
     },
     "execution_count": 3,
     "metadata": {},
     "output_type": "execute_result"
    }
   ],
   "source": [
    "# Load in raw data file\n",
    "data = pd.read_csv(DATA_PATH)\n",
    "\n",
    "# Preprocess data with the three-level dosage discretizer\n",
    "data = preprocess(data, label_discretizer=discretize_label_3)\n",
    "\n",
    "print(\"Number of records: {}\".format(len(data)))\n",
    "data.head()"
   ]
  },
  {
   "cell_type": "markdown",
   "metadata": {},
   "source": [
    "# Evaluate performance of baseline models"
   ]
  },
  {
   "cell_type": "code",
   "execution_count": 4,
   "metadata": {},
   "outputs": [],
   "source": [
    "def accuracy(s1, s2):\n",
    "    return (s1 == s2).mean()"
   ]
  },
  {
   "cell_type": "code",
   "execution_count": 5,
   "metadata": {},
   "outputs": [],
   "source": [
    "def evaluate_baselines(data_path, label_discretizer):\n",
    "    # Load in raw data file, then preprocess data\n",
    "    data = pd.read_csv(data_path)\n",
    "    data = preprocess(data, label_discretizer)\n",
    "    print(\"Number of records: {}\".format(len(data)))\n",
    "    print(\"Number of dosage levels: {}\".format(data['dosage-level'].nunique()))\n",
    "    \n",
    "    # Number of patients for each discrete dosage level\n",
    "    level_counts = data['dosage-level'].value_counts()\n",
    "    for idx in level_counts.index:\n",
    "        print(\"{}: {}\".format(idx, level_counts[idx]))\n",
    "    \n",
    "    print(\"Evaluate performance (fraction of right decisions) of baseline models...\")\n",
    "    \n",
    "    # Baseline 1: Fixed-dose\n",
    "    majority_dosage_level = data['dosage-level'].mode()[0]\n",
    "    print(\"Fixed-dose: {}\".format(accuracy(data['dosage-level'], majority_dosage_level)))\n",
    "\n",
    "    # Baseline 2: Clinical Dosing Algorithm\n",
    "    print(\"Clinical Algorithm: {}\".format(accuracy(data['dosage-level'],\n",
    "                                                   clinical_predict(data, label_discretizer))))\n",
    "\n",
    "    # Baseline 3: Pharmacogenetic Dosing Algorithm\n",
    "    print(\"Pharmacogenetic Algorithm: {}\".format(accuracy(data['dosage-level'],\n",
    "                                                          genetic_predict(data, label_discretizer))))"
   ]
  },
  {
   "cell_type": "code",
   "execution_count": 6,
   "metadata": {},
   "outputs": [
    {
     "name": "stdout",
     "output_type": "stream",
     "text": [
      "Number of records: 5528\n",
      "Number of dosage levels: 3\n",
      "1: 2992\n",
      "0: 1835\n",
      "2: 701\n",
      "Evaluate performance (fraction of right decisions) of baseline models...\n",
      "Fixed-dose: 0.5412445730824892\n",
      "Clinical Algorithm: 0.6069102749638206\n",
      "Pharmacogenetic Algorithm: 0.6617221418234442\n"
     ]
    }
   ],
   "source": [
    "# Three levels: low, medium, high\n",
    "evaluate_baselines(\"../data/warfarin.csv\", discretize_label_3)"
   ]
  },
  {
   "cell_type": "code",
   "execution_count": 7,
   "metadata": {},
   "outputs": [
    {
     "name": "stdout",
     "output_type": "stream",
     "text": [
      "Number of records: 5528\n",
      "Number of dosage levels: 9\n",
      "3: 1196\n",
      "1: 1033\n",
      "4: 814\n",
      "2: 805\n",
      "5: 634\n",
      "8: 319\n",
      "7: 251\n",
      "6: 239\n",
      "0: 237\n",
      "Evaluate performance (fraction of right decisions) of baseline models...\n",
      "Fixed-dose: 0.21635311143270622\n",
      "Clinical Algorithm: 0.2333574529667149\n",
      "Pharmacogenetic Algorithm: 0.269356005788712\n"
     ]
    }
   ],
   "source": [
    "# Nine levels\n",
    "evaluate_baselines(\"../data/warfarin.csv\", discretize_label_9)"
   ]
  },
  {
   "cell_type": "markdown",
   "metadata": {},
   "source": [
    "# Build an oracle for the multi-armed bandit setting\n",
    "Following the Lasso Bandit paper, we establish an approximate oracle that estimates the true parameters of each arm using all of the data. Basically, we train a Logistic classifier for each arm using all of the data with no regularization."
   ]
  },
  {
   "cell_type": "code",
   "execution_count": 8,
   "metadata": {},
   "outputs": [],
   "source": [
    "def evaluate_oracle(data_path, label_discretizer):\n",
    "    # Load in raw data file, then preprocess data\n",
    "    data = pd.read_csv(data_path)\n",
    "    data = preprocess(data, label_discretizer)\n",
    "    K = data['dosage-level'].nunique()  # number of dosage levels (i.e. arms/classes)\n",
    "\n",
    "    # Prepare training data\n",
    "    X = data.drop(['daily-dosage', 'dosage-level'], axis=1)\n",
    "    y = [(data['dosage-level'] == l).astype(np.float32).values for l in range(K)]\n",
    "\n",
    "    # Train K Logistic Classifiers for the K arms\n",
    "    models = [LogisticRegression(C=100000, solver='liblinear') for _ in range(K)]  # large C -> no regularization\n",
    "    for i in range(K):\n",
    "        models[i].fit(X.values, y[i])\n",
    "\n",
    "    prediction_score = np.array([m.predict_proba(X)[:,1] for m in models])\n",
    "    prediction_class = np.argmax(prediction_score, axis=0)  # Choose the arm with highest score    \n",
    "    print(\"oracle accuracy: {}\".format(accuracy(data['dosage-level'], prediction_class)))"
   ]
  },
  {
   "cell_type": "code",
   "execution_count": 9,
   "metadata": {},
   "outputs": [
    {
     "name": "stdout",
     "output_type": "stream",
     "text": [
      "oracle accuracy: 0.6863241678726484\n"
     ]
    }
   ],
   "source": [
    "# Three levels: low, medium, high\n",
    "evaluate_oracle(DATA_PATH, discretize_label_3)"
   ]
  },
  {
   "cell_type": "code",
   "execution_count": 10,
   "metadata": {},
   "outputs": [
    {
     "name": "stdout",
     "output_type": "stream",
     "text": [
      "oracle accuracy: 0.33375542691751087\n"
     ]
    }
   ],
   "source": [
    "# Nine levels\n",
    "evaluate_oracle(DATA_PATH, discretize_label_9)"
   ]
  },
  {
   "cell_type": "code",
   "execution_count": null,
   "metadata": {},
   "outputs": [],
   "source": []
  }
 ],
 "metadata": {
  "kernelspec": {
   "display_name": "Python 3",
   "language": "python",
   "name": "python3"
  },
  "language_info": {
   "codemirror_mode": {
    "name": "ipython",
    "version": 3
   },
   "file_extension": ".py",
   "mimetype": "text/x-python",
   "name": "python",
   "nbconvert_exporter": "python",
   "pygments_lexer": "ipython3",
   "version": "3.6.8"
  }
 },
 "nbformat": 4,
 "nbformat_minor": 2
}
